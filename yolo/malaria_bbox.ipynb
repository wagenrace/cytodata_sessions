{
 "metadata": {
  "language_info": {
   "codemirror_mode": {
    "name": "ipython",
    "version": 3
   },
   "file_extension": ".py",
   "mimetype": "text/x-python",
   "name": "python",
   "nbconvert_exporter": "python",
   "pygments_lexer": "ipython3",
   "version": 3
  },
  "orig_nbformat": 2
 },
 "nbformat": 4,
 "nbformat_minor": 2,
 "cells": [
  {
   "cell_type": "code",
   "execution_count": null,
   "metadata": {},
   "outputs": [],
   "source": [
    "import tensorflow as tf\n",
    "\n",
    "from tf_image.application.augmentation_config import (\n",
    "    AugmentationConfig,\n",
    "    AspectRatioAugmentation,\n",
    "    ColorAugmentation,\n",
    ")\n",
    "from tf_image.application.tools import random_augmentations\n"
   ]
  },
  {
   "cell_type": "code",
   "execution_count": null,
   "metadata": {},
   "outputs": [],
   "source": [
    "image = tf.io.read_file(r\"D:\\data\\malaria_bounding_boxes\\images\\00a02700-2ea2-4590-9e15-ffc9160fd3de.png\")\n",
    "image = tf.image.decode_jpeg(image)\n",
    "bounding_boxes = tf.constant([[0.1, 0.2, 0.5, 0.3], [0.5, 0.3, 0.9, 0.1]])\n",
    "\n",
    "config = AugmentationConfig()\n",
    "config.color = ColorAugmentation.MILD\n",
    "config.crop = True\n",
    "config.distort_aspect_ratio = AspectRatioAugmentation.NONE\n",
    "config.quality = True\n",
    "config.erasing = True\n",
    "config.rotate90 = False\n",
    "config.rotate_max = 0\n",
    "config.flip_vertical = True\n",
    "config.flip_horizontal = False\n",
    "config.padding_square = False"
   ]
  },
  {
   "cell_type": "code",
   "execution_count": null,
   "metadata": {},
   "outputs": [],
   "source": [
    "image, bounding_boxes = random_augmentations(image, config, bboxes=bounding_boxes)"
   ]
  }
 ]
}